{
 "cells": [
  {
   "cell_type": "code",
   "execution_count": 1,
   "metadata": {},
   "outputs": [
    {
     "name": "stderr",
     "output_type": "stream",
     "text": [
      "Using TensorFlow backend.\n"
     ]
    }
   ],
   "source": [
    "import onnx\n",
    "import onnxmltools\n",
    "from keras.models import model_from_json"
   ]
  },
  {
   "cell_type": "code",
   "execution_count": 2,
   "metadata": {},
   "outputs": [],
   "source": [
    "MODEL_NAME = \"multi-class\"\n",
    "IR_VERSION = 3"
   ]
  },
  {
   "cell_type": "code",
   "execution_count": 3,
   "metadata": {},
   "outputs": [
    {
     "name": "stdout",
     "output_type": "stream",
     "text": [
      "[INFO] Loading Model from disk.. \n",
      "WARNING:tensorflow:From /Users/Aaron/miniconda3/envs/vggfacekeras/lib/python3.6/site-packages/keras/backend/tensorflow_backend.py:1259: calling reduce_prod (from tensorflow.python.ops.math_ops) with keep_dims is deprecated and will be removed in a future version.\n",
      "Instructions for updating:\n",
      "keep_dims is deprecated, use keepdims instead\n",
      "[INFO] Loading Weights from disk.. \n",
      "[INFO] Loaded model complete\n"
     ]
    }
   ],
   "source": [
    "# load json and create model\n",
    "print(\"[INFO] Loading Model from disk.. \")\n",
    "json_file = open(MODEL_NAME + '_keras_model.json', 'r')\n",
    "loaded_model_json = json_file.read()\n",
    "json_file.close()\n",
    "loaded_model = model_from_json(loaded_model_json)\n",
    "# load weights into new model\n",
    "print(\"[INFO] Loading Weights from disk.. \")\n",
    "loaded_model.load_weights(MODEL_NAME + \"_model.h5\")\n",
    "print(\"[INFO] Loaded model complete\")"
   ]
  },
  {
   "cell_type": "code",
   "execution_count": 4,
   "metadata": {},
   "outputs": [
    {
     "name": "stdout",
     "output_type": "stream",
     "text": [
      "[INFO] Converting to ONNX...\n"
     ]
    },
    {
     "name": "stderr",
     "output_type": "stream",
     "text": [
      "The maximum opset needed by this model is only 8.\n"
     ]
    },
    {
     "name": "stdout",
     "output_type": "stream",
     "text": [
      "[INFO] Conversion complete\n"
     ]
    }
   ],
   "source": [
    "print(\"[INFO] Converting to ONNX...\")\n",
    "onnx_model = onnxmltools.convert_keras(loaded_model)\n",
    "onnx_model.ir_version = IR_VERSION\n",
    "print(\"[INFO] Conversion complete\")"
   ]
  },
  {
   "cell_type": "code",
   "execution_count": 5,
   "metadata": {},
   "outputs": [
    {
     "name": "stdout",
     "output_type": "stream",
     "text": [
      "[INFO] Saving ONNX...\n",
      "[INFO] Save complete\n"
     ]
    }
   ],
   "source": [
    "# Save the ONNX model\n",
    "print(\"[INFO] Saving ONNX...\")\n",
    "onnx.save(onnx_model, MODEL_NAME + '_model.onnx')\n",
    "print(\"[INFO] Save complete\")"
   ]
  },
  {
   "cell_type": "code",
   "execution_count": null,
   "metadata": {},
   "outputs": [],
   "source": []
  }
 ],
 "metadata": {
  "kernelspec": {
   "display_name": "Python 3",
   "language": "python",
   "name": "python3"
  },
  "language_info": {
   "codemirror_mode": {
    "name": "ipython",
    "version": 3
   },
   "file_extension": ".py",
   "mimetype": "text/x-python",
   "name": "python",
   "nbconvert_exporter": "python",
   "pygments_lexer": "ipython3",
   "version": "3.6.7"
  }
 },
 "nbformat": 4,
 "nbformat_minor": 2
}
