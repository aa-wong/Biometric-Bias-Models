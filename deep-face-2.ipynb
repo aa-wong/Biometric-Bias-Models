{
 "cells": [
  {
   "cell_type": "code",
   "execution_count": 1,
   "metadata": {},
   "outputs": [
    {
     "name": "stderr",
     "output_type": "stream",
     "text": [
      "Using plaidml.keras.backend backend.\n"
     ]
    }
   ],
   "source": [
    "# Import Dependencies\n",
    "import os\n",
    "os.environ[\"KERAS_BACKEND\"] = \"plaidml.keras.backend\"\n",
    "from keras.models import Sequential, load_model\n",
    "from keras.layers.normalization import BatchNormalization\n",
    "from keras.layers.convolutional import Conv2D, MaxPooling2D\n",
    "from keras.layers.core import Activation, Flatten, Dropout, Dense\n",
    "from keras import backend as K"
   ]
  },
  {
   "cell_type": "code",
   "execution_count": 2,
   "metadata": {},
   "outputs": [],
   "source": [
    "def binary_model(img_dims, classes):\n",
    "    # Initialize the model\n",
    "    model = Sequential()\n",
    "    input_shape = (img_dims[1], \n",
    "                   img_dims[0], \n",
    "                   img_dims[2])\n",
    "    chan_dim = -1\n",
    "    \n",
    "    # Update input_shape if using channels_first\n",
    "    if K.image_data_format() == \"channels_first\":\n",
    "        input_shape = (img_dims[2], \n",
    "                       img_dims[1], \n",
    "                       img_dims[0])\n",
    "        chan_dim = 1\n",
    "    \n",
    "    # first set of CONV => RELU => POOL layers\n",
    "    model.add(Conv2D(20, (5, 5), padding=\"same\", input_shape=input_shape))\n",
    "    model.add(Activation(\"relu\"))\n",
    "    model.add(MaxPooling2D(pool_size=(2, 2), strides=(2, 2)))\n",
    "    \n",
    "    # second set of CONV => RELU => POOL layers\n",
    "    model.add(Conv2D(50, (5, 5), padding=\"same\"))\n",
    "    model.add(Activation(\"relu\"))\n",
    "    model.add(MaxPooling2D(pool_size=(2, 2), strides=(2, 2)))\n",
    "    \n",
    "    # first (and only) set of FC => RELU layers\n",
    "    model.add(Flatten())\n",
    "    model.add(Dense(500))\n",
    "    model.add(Activation(\"relu\"))\n",
    "\n",
    "    # softmax classifier\n",
    "    model.add(Dense(classes))\n",
    "    model.add(Activation(\"softmax\"))\n",
    "\n",
    "    # return the constructed network architecture\n",
    "    return model\n",
    "    "
   ]
  },
  {
   "cell_type": "code",
   "execution_count": 3,
   "metadata": {},
   "outputs": [],
   "source": [
    "# import the necessary packages\n",
    "from keras.preprocessing.image import ImageDataGenerator, img_to_array\n",
    "from keras.optimizers import Adam\n",
    "from sklearn.model_selection import train_test_split\n",
    "from  scipy import ndimage\n",
    "from keras.utils import to_categorical\n",
    "from imutils import paths\n",
    "import matplotlib.pyplot as plt\n",
    "import numpy as np\n",
    "import random\n",
    "import cv2\n",
    "import os"
   ]
  },
  {
   "cell_type": "code",
   "execution_count": 4,
   "metadata": {},
   "outputs": [],
   "source": [
    "# initialize the number of epochs to train for, initial learning rate,\n",
    "# and batch size\n",
    "EPOCHS = 75\n",
    "INIT_LR = 1e-3\n",
    "BS = 32\n",
    "IMG_DIMS = (28, 28, 3)\n",
    "\n",
    "MODEL_NAME = \"gender\"\n",
    "\n",
    "data_set_dir = 'data/dataset/' + MODEL_NAME\n"
   ]
  },
  {
   "cell_type": "code",
   "execution_count": 5,
   "metadata": {},
   "outputs": [],
   "source": [
    "def split_train_test_set(directory):\n",
    "    \n",
    "    classifiers = next(os.walk(data_set_dir))[1]\n",
    "    \n",
    "    print(\"[INFO] loading images from {}\".format(directory))\n",
    "    # initialize the data and labels\n",
    "    data = []\n",
    "    labels = []\n",
    "    \n",
    "    # grab the image paths and randomly shuffle them\n",
    "    image_paths = sorted(list(paths.list_images(directory)))\n",
    "    random.seed(42)\n",
    "    random.shuffle(image_paths)\n",
    "    \n",
    "    # loop over the input images\n",
    "    for image_path in image_paths:\n",
    "        # load the image, pre-process it, and store it in the data list\n",
    "        image = cv2.imread(image_path)\n",
    "        image = cv2.resize(image, (28, 28))\n",
    "        image = img_to_array(image)\n",
    "        data.append(image)\n",
    " \n",
    "        # extract the class label from the image path and update the\n",
    "        # labels list        \n",
    "        label = image_path.split(os.path.sep)[-2]\n",
    "        l = classifiers.index(label)\n",
    "        labels.append(l)\n",
    "        \n",
    "    # scale the raw pixel intensities to the range [0, 1]\n",
    "    data = np.array(data, dtype=\"float\") / 255.0\n",
    "    labels = np.array(labels)\n",
    "     \n",
    "    # partition the data into training and testing splits using 75% of\n",
    "    # the data for training and the remaining 25% for testing\n",
    "    train_X, test_X, train_Y, test_Y = train_test_split(data,\n",
    "                                                        labels,\n",
    "                                                        test_size=0.2,\n",
    "                                                        random_state=42)\n",
    " \n",
    "    # convert the labels from integers to vectors\n",
    "    train_Y = to_categorical(train_Y, num_classes=2)\n",
    "    test_Y = to_categorical(test_Y, num_classes=2)\n",
    "    \n",
    "    return train_X, test_X, train_Y, test_Y, classifiers\n",
    "        "
   ]
  },
  {
   "cell_type": "code",
   "execution_count": 6,
   "metadata": {},
   "outputs": [],
   "source": [
    "def show_model_performance_graph(model):\n",
    "    # plot the training loss and accuracy\n",
    "    plt.style.use(\"ggplot\")\n",
    "    plt.figure()\n",
    "    N = EPOCHS\n",
    "    plt.plot(np.arange(0, N), \n",
    "             model.history[\"loss\"], \n",
    "             label=\"train_loss\")\n",
    "    plt.plot(np.arange(0, N), \n",
    "             model.history[\"val_loss\"], \n",
    "             label=\"val_loss\")\n",
    "    \n",
    "    plt.plot(np.arange(0, N), \n",
    "             model.history[\"acc\"], \n",
    "             label=\"train_acc\")\n",
    "    plt.plot(np.arange(0, N), \n",
    "             model.history[\"val_acc\"], \n",
    "             label=\"val_acc\")\n",
    "    plt.title(\"Training Loss and Accuracy\")\n",
    "    plt.xlabel(\"Epoch #\")\n",
    "    plt.ylabel(\"Loss/Accuracy\")\n",
    "    plt.legend(loc=\"lower left\")\n",
    "    plt.show()"
   ]
  },
  {
   "cell_type": "code",
   "execution_count": 7,
   "metadata": {},
   "outputs": [],
   "source": [
    "def train_model(dataset_dir):\n",
    "    train_X, test_X, train_Y, test_Y, classifiers = split_train_test_set(dataset_dir)\n",
    "    \n",
    "    # initialize the model\n",
    "    print(\"[INFO] compiling model...\")\n",
    "    model = binary_model(IMG_DIMS, classes=2)\n",
    "    opt = Adam(lr=INIT_LR, decay=INIT_LR / EPOCHS)\n",
    "    model.compile(loss=\"binary_crossentropy\",\n",
    "                  optimizer=opt, \n",
    "                  metrics=[\"accuracy\"])\n",
    "    \n",
    "    # construct the image generator for data augmentation\n",
    "    aug = ImageDataGenerator(rotation_range=30, \n",
    "                             width_shift_range=0.1,\n",
    "                             height_shift_range=0.1,\n",
    "                             shear_range=0.2,\n",
    "                             zoom_range=0.2,\n",
    "                             horizontal_flip=True,\n",
    "                             fill_mode=\"nearest\")\n",
    "    \n",
    "    # train the network\n",
    "    print(\"[INFO] training network...\")\n",
    "    h = model.fit_generator(\n",
    "        aug.flow(train_X, train_Y, batch_size=BS),\n",
    "        validation_data=(test_X, test_Y), \n",
    "        steps_per_epoch=len(train_X) // BS,\n",
    "        epochs=EPOCHS, \n",
    "        verbose=1)\n",
    "    # save the model to disk\n",
    "    print(\"[INFO] serializing network...\")\n",
    "    model.save(MODEL_NAME + \"_model.h5\")\n",
    "    return h, model, classifiers"
   ]
  },
  {
   "cell_type": "code",
   "execution_count": 8,
   "metadata": {},
   "outputs": [
    {
     "name": "stdout",
     "output_type": "stream",
     "text": [
      "[INFO] loading images from data/dataset/gender\n",
      "[INFO] compiling model...\n"
     ]
    },
    {
     "name": "stderr",
     "output_type": "stream",
     "text": [
      "INFO:plaidml:Opening device \"metal_amd_radeon_r9_m370x.0\"\n"
     ]
    },
    {
     "name": "stdout",
     "output_type": "stream",
     "text": [
      "[INFO] training network...\n",
      "Epoch 1/75\n",
      "30/30 [==============================] - 13s 419ms/step - loss: 0.7062 - acc: 0.5595 - val_loss: 0.6052 - val_acc: 0.5455\n",
      "Epoch 2/75\n",
      "30/30 [==============================] - 2s 79ms/step - loss: 0.5861 - acc: 0.6766 - val_loss: 0.5252 - val_acc: 0.7149\n",
      "Epoch 3/75\n",
      "30/30 [==============================] - 2s 78ms/step - loss: 0.5868 - acc: 0.6672 - val_loss: 0.5067 - val_acc: 0.6777\n",
      "Epoch 4/75\n",
      "30/30 [==============================] - 2s 76ms/step - loss: 0.5550 - acc: 0.6826 - val_loss: 0.5082 - val_acc: 0.7231\n",
      "Epoch 5/75\n",
      "30/30 [==============================] - 2s 77ms/step - loss: 0.5544 - acc: 0.7216 - val_loss: 0.7029 - val_acc: 0.5744\n",
      "Epoch 6/75\n",
      "30/30 [==============================] - 2s 76ms/step - loss: 0.5253 - acc: 0.7402 - val_loss: 0.5478 - val_acc: 0.6901\n",
      "Epoch 7/75\n",
      "30/30 [==============================] - 2s 78ms/step - loss: 0.5493 - acc: 0.7266 - val_loss: 0.5590 - val_acc: 0.6529\n",
      "Epoch 8/75\n",
      "30/30 [==============================] - 2s 76ms/step - loss: 0.4993 - acc: 0.7644 - val_loss: 0.5086 - val_acc: 0.7149\n",
      "Epoch 9/75\n",
      "30/30 [==============================] - 2s 78ms/step - loss: 0.5093 - acc: 0.7352 - val_loss: 0.4919 - val_acc: 0.6983\n",
      "Epoch 10/75\n",
      "30/30 [==============================] - 2s 76ms/step - loss: 0.4950 - acc: 0.7587 - val_loss: 0.4204 - val_acc: 0.8140\n",
      "Epoch 11/75\n",
      "30/30 [==============================] - 2s 77ms/step - loss: 0.4676 - acc: 0.7863 - val_loss: 0.4114 - val_acc: 0.7686\n",
      "Epoch 12/75\n",
      "30/30 [==============================] - 2s 78ms/step - loss: 0.4511 - acc: 0.7719 - val_loss: 0.3926 - val_acc: 0.8306\n",
      "Epoch 13/75\n",
      "30/30 [==============================] - 2s 77ms/step - loss: 0.4788 - acc: 0.7752 - val_loss: 0.5123 - val_acc: 0.6818\n",
      "Epoch 14/75\n",
      "30/30 [==============================] - 2s 78ms/step - loss: 0.4128 - acc: 0.8010 - val_loss: 0.4263 - val_acc: 0.7893\n",
      "Epoch 15/75\n",
      "30/30 [==============================] - 2s 74ms/step - loss: 0.4055 - acc: 0.8190 - val_loss: 0.5234 - val_acc: 0.7190\n",
      "Epoch 16/75\n",
      "30/30 [==============================] - 2s 78ms/step - loss: 0.4692 - acc: 0.7883 - val_loss: 0.3387 - val_acc: 0.8471\n",
      "Epoch 17/75\n",
      "30/30 [==============================] - 2s 77ms/step - loss: 0.4052 - acc: 0.8029 - val_loss: 0.5925 - val_acc: 0.7066\n",
      "Epoch 18/75\n",
      "30/30 [==============================] - 2s 78ms/step - loss: 0.4635 - acc: 0.7848 - val_loss: 0.3708 - val_acc: 0.8471\n",
      "Epoch 19/75\n",
      "30/30 [==============================] - 2s 77ms/step - loss: 0.4084 - acc: 0.8134 - val_loss: 0.3569 - val_acc: 0.8264\n",
      "Epoch 20/75\n",
      "30/30 [==============================] - 2s 80ms/step - loss: 0.3920 - acc: 0.8208 - val_loss: 0.4006 - val_acc: 0.7975\n",
      "Epoch 21/75\n",
      "30/30 [==============================] - 2s 75ms/step - loss: 0.4091 - acc: 0.8234 - val_loss: 0.3941 - val_acc: 0.8140\n",
      "Epoch 22/75\n",
      "30/30 [==============================] - 2s 77ms/step - loss: 0.3762 - acc: 0.8402 - val_loss: 0.3250 - val_acc: 0.8471\n",
      "Epoch 23/75\n",
      "30/30 [==============================] - 2s 79ms/step - loss: 0.3851 - acc: 0.8319 - val_loss: 0.4306 - val_acc: 0.8017\n",
      "Epoch 24/75\n",
      "30/30 [==============================] - 2s 78ms/step - loss: 0.3645 - acc: 0.8417 - val_loss: 0.3455 - val_acc: 0.8306\n",
      "Epoch 25/75\n",
      "30/30 [==============================] - 2s 79ms/step - loss: 0.3614 - acc: 0.8350 - val_loss: 0.3328 - val_acc: 0.8512\n",
      "Epoch 26/75\n",
      "30/30 [==============================] - 2s 77ms/step - loss: 0.3824 - acc: 0.8309 - val_loss: 0.3243 - val_acc: 0.8471\n",
      "Epoch 27/75\n",
      "30/30 [==============================] - 2s 78ms/step - loss: 0.3374 - acc: 0.8697 - val_loss: 0.3060 - val_acc: 0.8512\n",
      "Epoch 28/75\n",
      "30/30 [==============================] - 2s 76ms/step - loss: 0.3749 - acc: 0.8455 - val_loss: 0.3375 - val_acc: 0.8388\n",
      "Epoch 29/75\n",
      "30/30 [==============================] - 2s 79ms/step - loss: 0.3450 - acc: 0.8569 - val_loss: 0.3561 - val_acc: 0.8140\n",
      "Epoch 30/75\n",
      "30/30 [==============================] - 2s 77ms/step - loss: 0.3654 - acc: 0.8369 - val_loss: 0.3068 - val_acc: 0.8719\n",
      "Epoch 31/75\n",
      "30/30 [==============================] - 2s 76ms/step - loss: 0.3373 - acc: 0.8642 - val_loss: 0.2915 - val_acc: 0.8719\n",
      "Epoch 32/75\n",
      "30/30 [==============================] - 2s 76ms/step - loss: 0.3490 - acc: 0.8426 - val_loss: 0.2884 - val_acc: 0.8760\n",
      "Epoch 33/75\n",
      "30/30 [==============================] - 2s 77ms/step - loss: 0.3577 - acc: 0.8465 - val_loss: 0.3221 - val_acc: 0.8595\n",
      "Epoch 34/75\n",
      "30/30 [==============================] - 2s 76ms/step - loss: 0.3452 - acc: 0.8496 - val_loss: 0.3024 - val_acc: 0.8843\n",
      "Epoch 35/75\n",
      "30/30 [==============================] - 2s 77ms/step - loss: 0.3679 - acc: 0.8557 - val_loss: 0.3271 - val_acc: 0.8719\n",
      "Epoch 36/75\n",
      "30/30 [==============================] - 2s 78ms/step - loss: 0.3419 - acc: 0.8542 - val_loss: 0.2733 - val_acc: 0.8760\n",
      "Epoch 37/75\n",
      "30/30 [==============================] - 2s 75ms/step - loss: 0.3315 - acc: 0.8704 - val_loss: 0.2781 - val_acc: 0.8843\n",
      "Epoch 38/75\n",
      "30/30 [==============================] - 2s 78ms/step - loss: 0.3030 - acc: 0.8698 - val_loss: 0.2704 - val_acc: 0.8884\n",
      "Epoch 39/75\n",
      "30/30 [==============================] - 2s 76ms/step - loss: 0.3371 - acc: 0.8547 - val_loss: 0.2953 - val_acc: 0.8636\n",
      "Epoch 40/75\n",
      "30/30 [==============================] - 2s 79ms/step - loss: 0.3451 - acc: 0.8531 - val_loss: 0.2660 - val_acc: 0.8926\n",
      "Epoch 41/75\n",
      "30/30 [==============================] - 2s 79ms/step - loss: 0.3125 - acc: 0.8686 - val_loss: 0.2597 - val_acc: 0.8926\n",
      "Epoch 42/75\n",
      "30/30 [==============================] - 2s 74ms/step - loss: 0.3313 - acc: 0.8628 - val_loss: 0.4398 - val_acc: 0.7893\n",
      "Epoch 43/75\n",
      "30/30 [==============================] - 2s 79ms/step - loss: 0.3541 - acc: 0.8384 - val_loss: 0.2976 - val_acc: 0.8636\n",
      "Epoch 44/75\n",
      "30/30 [==============================] - 2s 76ms/step - loss: 0.3115 - acc: 0.8707 - val_loss: 0.3101 - val_acc: 0.8388\n",
      "Epoch 45/75\n",
      "30/30 [==============================] - 2s 79ms/step - loss: 0.3173 - acc: 0.8592 - val_loss: 0.3816 - val_acc: 0.8512\n",
      "Epoch 46/75\n",
      "30/30 [==============================] - 2s 78ms/step - loss: 0.2957 - acc: 0.8687 - val_loss: 0.2429 - val_acc: 0.9050\n",
      "Epoch 47/75\n",
      "30/30 [==============================] - 2s 78ms/step - loss: 0.3139 - acc: 0.8820 - val_loss: 0.2932 - val_acc: 0.8595\n",
      "Epoch 48/75\n",
      "30/30 [==============================] - 2s 75ms/step - loss: 0.3489 - acc: 0.8474 - val_loss: 0.3081 - val_acc: 0.8471\n",
      "Epoch 49/75\n",
      "30/30 [==============================] - 2s 77ms/step - loss: 0.3416 - acc: 0.8478 - val_loss: 0.2696 - val_acc: 0.8760\n",
      "Epoch 50/75\n",
      "30/30 [==============================] - 2s 80ms/step - loss: 0.2942 - acc: 0.8771 - val_loss: 0.2968 - val_acc: 0.8595\n",
      "Epoch 51/75\n",
      "30/30 [==============================] - 2s 77ms/step - loss: 0.2840 - acc: 0.8861 - val_loss: 0.2350 - val_acc: 0.8926\n",
      "Epoch 52/75\n",
      "30/30 [==============================] - 2s 77ms/step - loss: 0.3178 - acc: 0.8655 - val_loss: 0.2391 - val_acc: 0.8926\n",
      "Epoch 53/75\n",
      "30/30 [==============================] - 2s 77ms/step - loss: 0.2988 - acc: 0.8788 - val_loss: 0.2672 - val_acc: 0.8678\n",
      "Epoch 54/75\n",
      "30/30 [==============================] - 2s 78ms/step - loss: 0.3459 - acc: 0.8640 - val_loss: 0.2400 - val_acc: 0.9050\n",
      "Epoch 55/75\n",
      "30/30 [==============================] - 2s 77ms/step - loss: 0.2970 - acc: 0.8674 - val_loss: 0.2531 - val_acc: 0.8802\n",
      "Epoch 56/75\n",
      "30/30 [==============================] - 2s 76ms/step - loss: 0.2705 - acc: 0.8822 - val_loss: 0.2737 - val_acc: 0.8802\n",
      "Epoch 57/75\n",
      "30/30 [==============================] - 2s 77ms/step - loss: 0.2663 - acc: 0.8937 - val_loss: 0.2818 - val_acc: 0.8595\n",
      "Epoch 58/75\n",
      "30/30 [==============================] - 2s 77ms/step - loss: 0.2980 - acc: 0.8809 - val_loss: 0.2504 - val_acc: 0.9050\n",
      "Epoch 59/75\n",
      "30/30 [==============================] - 2s 76ms/step - loss: 0.3320 - acc: 0.8559 - val_loss: 0.2624 - val_acc: 0.8802\n",
      "Epoch 60/75\n",
      "30/30 [==============================] - 2s 77ms/step - loss: 0.2766 - acc: 0.8822 - val_loss: 0.2511 - val_acc: 0.8843\n",
      "Epoch 61/75\n",
      "30/30 [==============================] - 2s 76ms/step - loss: 0.2816 - acc: 0.8843 - val_loss: 0.2301 - val_acc: 0.9008\n",
      "Epoch 62/75\n",
      "30/30 [==============================] - 2s 76ms/step - loss: 0.2764 - acc: 0.8864 - val_loss: 0.2438 - val_acc: 0.8843\n"
     ]
    },
    {
     "name": "stdout",
     "output_type": "stream",
     "text": [
      "Epoch 63/75\n",
      "30/30 [==============================] - 4s 145ms/step - loss: 0.2614 - acc: 0.8828 - val_loss: 0.2510 - val_acc: 0.8843\n",
      "Epoch 64/75\n",
      "30/30 [==============================] - 2s 77ms/step - loss: 0.2877 - acc: 0.8916 - val_loss: 0.2180 - val_acc: 0.9132\n",
      "Epoch 65/75\n",
      "30/30 [==============================] - 2s 80ms/step - loss: 0.2578 - acc: 0.8979 - val_loss: 0.2207 - val_acc: 0.9091\n",
      "Epoch 66/75\n",
      "30/30 [==============================] - 2s 80ms/step - loss: 0.2613 - acc: 0.8905 - val_loss: 0.2371 - val_acc: 0.8926\n",
      "Epoch 67/75\n",
      "30/30 [==============================] - 2s 79ms/step - loss: 0.2450 - acc: 0.8947 - val_loss: 0.2484 - val_acc: 0.9091\n",
      "Epoch 68/75\n",
      "30/30 [==============================] - 2s 75ms/step - loss: 0.2474 - acc: 0.9050 - val_loss: 0.2419 - val_acc: 0.9050\n",
      "Epoch 69/75\n",
      "30/30 [==============================] - 2s 76ms/step - loss: 0.2588 - acc: 0.8945 - val_loss: 0.3014 - val_acc: 0.8802\n",
      "Epoch 70/75\n",
      "30/30 [==============================] - 2s 77ms/step - loss: 0.2612 - acc: 0.8926 - val_loss: 0.2244 - val_acc: 0.9298\n",
      "Epoch 71/75\n",
      "30/30 [==============================] - 2s 77ms/step - loss: 0.2449 - acc: 0.8989 - val_loss: 0.2440 - val_acc: 0.8843\n",
      "Epoch 72/75\n",
      "30/30 [==============================] - 2s 79ms/step - loss: 0.2348 - acc: 0.9052 - val_loss: 0.2402 - val_acc: 0.8884\n",
      "Epoch 73/75\n",
      "30/30 [==============================] - 2s 80ms/step - loss: 0.2491 - acc: 0.9030 - val_loss: 0.1912 - val_acc: 0.9298\n",
      "Epoch 74/75\n",
      "30/30 [==============================] - 2s 74ms/step - loss: 0.2619 - acc: 0.8950 - val_loss: 0.1997 - val_acc: 0.9215\n",
      "Epoch 75/75\n",
      "30/30 [==============================] - 2s 80ms/step - loss: 0.2166 - acc: 0.9021 - val_loss: 0.2159 - val_acc: 0.9174\n",
      "[INFO] serializing network...\n"
     ]
    }
   ],
   "source": [
    "h, model, classifiers = train_model(data_set_dir)"
   ]
  },
  {
   "cell_type": "code",
   "execution_count": 9,
   "metadata": {},
   "outputs": [
    {
     "data": {
      "image/png": "[encoded data removed]",
      "text/plain": [
       "<Figure size 432x288 with 1 Axes>"
      ]
     },
     "metadata": {},
     "output_type": "display_data"
    }
   ],
   "source": [
    "show_model_performance_graph(h)"
   ]
  },
  {
   "cell_type": "markdown",
   "metadata": {},
   "source": [
    "### Test"
   ]
  },
  {
   "cell_type": "code",
   "execution_count": 10,
   "metadata": {},
   "outputs": [],
   "source": [
    "# model = binary_model(IMG_DIMS, classes=2)\n",
    "# model.load_weights(\"./gender_model.h5\")"
   ]
  },
  {
   "cell_type": "code",
   "execution_count": 26,
   "metadata": {},
   "outputs": [],
   "source": [
    "# load the image\n",
    "image = cv2.imread('./test6.jpg')\n",
    "orig = image.copy()\n",
    "\n",
    "# pre-process the image for classification\n",
    "image = cv2.resize(image, (28, 28))\n",
    "image = image.astype(\"float\") / 255.0\n",
    "image = img_to_array(image)\n",
    "image = np.expand_dims(image, axis=0)"
   ]
  },
  {
   "cell_type": "code",
   "execution_count": 27,
   "metadata": {},
   "outputs": [],
   "source": [
    "prediction = model.predict(image)[0]"
   ]
  },
  {
   "cell_type": "code",
   "execution_count": 31,
   "metadata": {},
   "outputs": [
    {
     "name": "stdout",
     "output_type": "stream",
     "text": [
      "['male', 'female']\n",
      "[4.7540932e-04 9.9952459e-01]\n"
     ]
    }
   ],
   "source": [
    "print(classifiers)\n",
    "print(prediction)"
   ]
  },
  {
   "cell_type": "code",
   "execution_count": 28,
   "metadata": {},
   "outputs": [
    {
     "name": "stdout",
     "output_type": "stream",
     "text": [
      "male: 0.00048%\n",
      "female: 1.0%\n"
     ]
    }
   ],
   "source": [
    "for i, label in enumerate(classifiers):\n",
    "    print(\"{}: {:.2}%\".format(label, prediction[i]))"
   ]
  },
  {
   "cell_type": "code",
   "execution_count": null,
   "metadata": {},
   "outputs": [],
   "source": []
  }
 ],
 "metadata": {
  "kernelspec": {
   "display_name": "Python 3",
   "language": "python",
   "name": "python3"
  },
  "language_info": {
   "codemirror_mode": {
    "name": "ipython",
    "version": 3
   },
   "file_extension": ".py",
   "mimetype": "text/x-python",
   "name": "python",
   "nbconvert_exporter": "python",
   "pygments_lexer": "ipython3",
   "version": "3.6.7"
  }
 },
 "nbformat": 4,
 "nbformat_minor": 2
}
