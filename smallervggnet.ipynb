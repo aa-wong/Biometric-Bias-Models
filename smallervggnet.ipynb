{
 "cells": [
  {
   "cell_type": "code",
   "execution_count": 1,
   "metadata": {},
   "outputs": [
    {
     "name": "stderr",
     "output_type": "stream",
     "text": [
      "Using plaidml.keras.backend backend.\n"
     ]
    }
   ],
   "source": [
    "# Import Dependencies\n",
    "import os\n",
    "os.environ[\"KERAS_BACKEND\"] = \"plaidml.keras.backend\"\n",
    "from keras.models import Sequential\n",
    "from keras.layers.normalization import BatchNormalization\n",
    "from keras.layers.convolutional import Conv2D, MaxPooling2D\n",
    "from keras.layers.core import Activation, Flatten, Dropout, Dense\n",
    "from keras import backend as K\n",
    "from scipy import ndimage"
   ]
  },
  {
   "cell_type": "code",
   "execution_count": 2,
   "metadata": {},
   "outputs": [],
   "source": [
    "class SmallerVGGNet:\n",
    "    @staticmethod\n",
    "    def build(img_dims, classes, final_act=\"softmax\"):\n",
    "        # Initialize the model\n",
    "        model = Sequential()\n",
    "        input_shape = (img_dims[1], \n",
    "                       img_dims[0], \n",
    "                       img_dims[2])\n",
    "        chan_dim = -1\n",
    "\n",
    "        # Update input_shape if using channels_first\n",
    "        if K.image_data_format() == \"channels_first\":\n",
    "            input_shape = (img_dims[2], \n",
    "                           img_dims[1], \n",
    "                           img_dims[0])\n",
    "            chan_dim = 1\n",
    "\n",
    "\n",
    "        # CONV => RELU => POOL\n",
    "        model.add(Conv2D(32, (3, 3), padding=\"same\", input_shape=input_shape, name='conv2d_1'))\n",
    "        model.add(Activation(\"relu\", name=\"activation_1\"))\n",
    "        model.add(BatchNormalization(axis=chanDim, name='batch_normalization_1'))\n",
    "        model.add(MaxPooling2D(pool_size=(3, 3), name='max_pooling_2d_1'))\n",
    "        model.add(Dropout(0.25, name='dropout_1'))\n",
    "\n",
    "        # (CONV => RELU) * 2 => POOL\n",
    "        model.add(Conv2D(64, (3, 3), padding=\"same\", name='conv2d_2'))\n",
    "        model.add(Activation(\"relu\", name=\"activation_2\"))\n",
    "        model.add(BatchNormalization(axis=chanDim, name='batch_normalization_2'))\n",
    "        model.add(Conv2D(64, (3, 3), padding=\"same\", name='conv2d_3'))\n",
    "        model.add(Activation(\"relu\", name=\"activation_3\"))\n",
    "        model.add(BatchNormalization(axis=chanDim, name='batch_normalization_3'))\n",
    "        model.add(MaxPooling2D(pool_size=(2, 2), name='max_pooling_2d_2'))\n",
    "        model.add(Dropout(0.25, name='dropout_2'))\n",
    "\n",
    "        # (CONV => RELU) * 2 => POOL\n",
    "        model.add(Conv2D(128, (3, 3), padding=\"same\", name='conv2d_4'))\n",
    "        model.add(Activation(\"relu\", name=\"activation_4\"))\n",
    "        model.add(BatchNormalization(axis=chanDim, name='batch_normalization_4'))\n",
    "        model.add(Conv2D(128, (3, 3), padding=\"same\", name='conv2d_5'))\n",
    "        model.add(Activation(\"relu\", name=\"activation_5\"))\n",
    "        model.add(BatchNormalization(axis=chanDim, name='batch_normalization_5'))\n",
    "        model.add(MaxPooling2D(pool_size=(2, 2), name='max_pooling_2d_3'))\n",
    "        model.add(Dropout(0.25, name='dropout_3'))\n",
    "\n",
    "        # first (and only) set of FC => RELU layers\n",
    "        model.add(Flatten(name='flatten_1'))\n",
    "        model.add(Dense(1024, name='dense_1'))\n",
    "        model.add(Activation(\"relu\", name=\"activation_6\"))\n",
    "        model.add(BatchNormalization(name='batch_normalization_6'))\n",
    "        model.add(Dropout(0.5, name='dropout_4'))\n",
    "\n",
    "        # use a *softmax* activation for single-label classification\n",
    "        # and *sigmoid* activation for multi-label classification\n",
    "        model.add(Dense(classes, name='dense_2'))\n",
    "        model.add(Activation(finalAct, name=\"activation_7\"))\n",
    "\n",
    "        # return the constructed network architecture\n",
    "        return model"
   ]
  },
  {
   "cell_type": "code",
   "execution_count": null,
   "metadata": {},
   "outputs": [],
   "source": []
  }
 ],
 "metadata": {
  "kernelspec": {
   "display_name": "Python 3",
   "language": "python",
   "name": "python3"
  },
  "language_info": {
   "codemirror_mode": {
    "name": "ipython",
    "version": 3
   },
   "file_extension": ".py",
   "mimetype": "text/x-python",
   "name": "python",
   "nbconvert_exporter": "python",
   "pygments_lexer": "ipython3",
   "version": "3.6.7"
  }
 },
 "nbformat": 4,
 "nbformat_minor": 2
}
